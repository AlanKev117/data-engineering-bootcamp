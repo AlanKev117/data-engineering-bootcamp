{
  "nbformat": 4,
  "nbformat_minor": 0,
  "metadata": {
    "kernelspec": {
      "display_name": "Python 3.9.7  ('env': venv)",
      "name": "pythonjvsc74a57bd0235be6ad8c408e82234002a994403c8453f6396d1692e61a3d981858a6009c63"
    },
    "language_info": {
      "codemirror_mode": {
        "name": "ipython",
        "version": 3
      },
      "file_extension": ".py",
      "mimetype": "text/x-python",
      "name": "python",
      "nbconvert_exporter": "python",
      "pygments_lexer": "ipython3",
      "version": "3.9.7"
    },
    "metadata": {
      "interpreter": {
        "hash": "235be6ad8c408e82234002a994403c8453f6396d1692e61a3d981858a6009c63"
      }
    },
    "orig_nbformat": 2,
    "colab": {
      "name": "project.ipynb",
      "provenance": [],
      "collapsed_sections": [],
      "include_colab_link": true
    }
  },
  "cells": [
    {
      "cell_type": "markdown",
      "metadata": {
        "id": "view-in-github",
        "colab_type": "text"
      },
      "source": [
        "<a href=\"https://colab.research.google.com/github/AlanKev117/data-engineering-bootcamp/blob/main/project.ipynb\" target=\"_parent\"><img src=\"https://colab.research.google.com/assets/colab-badge.svg\" alt=\"Open In Colab\"/></a>"
      ]
    },
    {
      "cell_type": "markdown",
      "metadata": {
        "id": "DwPkBhPjXncZ"
      },
      "source": [
        "# Project for Wizeline's Data Engineering Bootcamp\n",
        "---\n",
        "### By Alan Fuentes"
      ]
    },
    {
      "cell_type": "code",
      "metadata": {
        "id": "pmYP9Tb_DluF"
      },
      "source": [
        "import pandas as pd"
      ],
      "execution_count": 1,
      "outputs": []
    },
    {
      "cell_type": "markdown",
      "metadata": {
        "id": "ajvGOYjhX3_U"
      },
      "source": [
        "## A quick review through the sample dataset\n",
        "I decided to take a look at the sample dataset to get familiar with the column names and also to choose the ones that might be useful in order to find some interesting information"
      ]
    },
    {
      "cell_type": "code",
      "metadata": {
        "colab": {
          "base_uri": "https://localhost:8080/",
          "height": 327
        },
        "id": "SD8Ds33-XfOa",
        "outputId": "c9fd47d0-40c0-4f99-aaba-157b383628b9"
      },
      "source": [
        "sample = pd.read_csv(\"sample.csv\")\n",
        "sample.head(3)"
      ],
      "execution_count": null,
      "outputs": [
        {
          "output_type": "execute_result",
          "data": {
            "text/html": [
              "<div>\n",
              "<style scoped>\n",
              "    .dataframe tbody tr th:only-of-type {\n",
              "        vertical-align: middle;\n",
              "    }\n",
              "\n",
              "    .dataframe tbody tr th {\n",
              "        vertical-align: top;\n",
              "    }\n",
              "\n",
              "    .dataframe thead th {\n",
              "        text-align: right;\n",
              "    }\n",
              "</style>\n",
              "<table border=\"1\" class=\"dataframe\">\n",
              "  <thead>\n",
              "    <tr style=\"text-align: right;\">\n",
              "      <th></th>\n",
              "      <th>producto</th>\n",
              "      <th>presentacion</th>\n",
              "      <th>marca</th>\n",
              "      <th>categoria</th>\n",
              "      <th>catalogo</th>\n",
              "      <th>precio</th>\n",
              "      <th>fechaRegistro</th>\n",
              "      <th>cadenaComercial</th>\n",
              "      <th>giro</th>\n",
              "      <th>nombreComercial</th>\n",
              "      <th>direccion</th>\n",
              "      <th>estado</th>\n",
              "      <th>municipio</th>\n",
              "      <th>latitud</th>\n",
              "      <th>longitud</th>\n",
              "    </tr>\n",
              "  </thead>\n",
              "  <tbody>\n",
              "    <tr>\n",
              "      <th>0</th>\n",
              "      <td>CUADERNO FORMA ITALIANA</td>\n",
              "      <td>96 HOJAS PASTA DURA. CUADRICULA CHICA</td>\n",
              "      <td>ESTRELLA</td>\n",
              "      <td>MATERIAL ESCOLAR</td>\n",
              "      <td>UTILES ESCOLARES</td>\n",
              "      <td>25.9</td>\n",
              "      <td>2011-05-18 00:00:00.000</td>\n",
              "      <td>ABASTECEDORA LUMEN</td>\n",
              "      <td>PAPELERIAS</td>\n",
              "      <td>ABASTECEDORA LUMEN SUCURSAL VILLA COAPA</td>\n",
              "      <td>CANNES No. 6 ESQ. CANAL DE MIRAMONTES</td>\n",
              "      <td>DISTRITO FEDERAL</td>\n",
              "      <td>TLALPAN</td>\n",
              "      <td>19.29699</td>\n",
              "      <td>-99.125417</td>\n",
              "    </tr>\n",
              "    <tr>\n",
              "      <th>1</th>\n",
              "      <td>CRAYONES</td>\n",
              "      <td>CAJA 12 CERAS. JUMBO. C.B. 201423</td>\n",
              "      <td>CRAYOLA</td>\n",
              "      <td>MATERIAL ESCOLAR</td>\n",
              "      <td>UTILES ESCOLARES</td>\n",
              "      <td>27.5</td>\n",
              "      <td>2011-05-18 00:00:00.000</td>\n",
              "      <td>ABASTECEDORA LUMEN</td>\n",
              "      <td>PAPELERIAS</td>\n",
              "      <td>ABASTECEDORA LUMEN SUCURSAL VILLA COAPA</td>\n",
              "      <td>CANNES No. 6 ESQ. CANAL DE MIRAMONTES</td>\n",
              "      <td>DISTRITO FEDERAL</td>\n",
              "      <td>TLALPAN</td>\n",
              "      <td>19.29699</td>\n",
              "      <td>-99.125417</td>\n",
              "    </tr>\n",
              "    <tr>\n",
              "      <th>2</th>\n",
              "      <td>CRAYONES</td>\n",
              "      <td>CAJA 12 CERAS. TAMANO REGULAR C.B. 201034</td>\n",
              "      <td>CRAYOLA</td>\n",
              "      <td>MATERIAL ESCOLAR</td>\n",
              "      <td>UTILES ESCOLARES</td>\n",
              "      <td>13.9</td>\n",
              "      <td>2011-05-18 00:00:00.000</td>\n",
              "      <td>ABASTECEDORA LUMEN</td>\n",
              "      <td>PAPELERIAS</td>\n",
              "      <td>ABASTECEDORA LUMEN SUCURSAL VILLA COAPA</td>\n",
              "      <td>CANNES No. 6 ESQ. CANAL DE MIRAMONTES</td>\n",
              "      <td>DISTRITO FEDERAL</td>\n",
              "      <td>TLALPAN</td>\n",
              "      <td>19.29699</td>\n",
              "      <td>-99.125417</td>\n",
              "    </tr>\n",
              "  </tbody>\n",
              "</table>\n",
              "</div>"
            ],
            "text/plain": [
              "                  producto  ...   longitud\n",
              "0  CUADERNO FORMA ITALIANA  ... -99.125417\n",
              "1                 CRAYONES  ... -99.125417\n",
              "2                 CRAYONES  ... -99.125417\n",
              "\n",
              "[3 rows x 15 columns]"
            ]
          },
          "metadata": {},
          "execution_count": 6
        }
      ]
    },
    {
      "cell_type": "markdown",
      "metadata": {
        "id": "yaOl0UoLY45_"
      },
      "source": [
        "I choose olny those columns that are relevant to solve the first three questions:"
      ]
    },
    {
      "cell_type": "code",
      "metadata": {
        "id": "hn5f5lj5kA29"
      },
      "source": [
        "columns_to_use = [\"producto\", \"presentacion\", \"cadenaComercial\", \"estado\", \"precio\"]"
      ],
      "execution_count": 2,
      "outputs": []
    },
    {
      "cell_type": "markdown",
      "metadata": {
        "id": "yHvEfH7BnO6g"
      },
      "source": [
        "I created a symbolic link to the large file into my Drive account so I could read it faster in Google Colab."
      ]
    },
    {
      "cell_type": "code",
      "metadata": {
        "colab": {
          "base_uri": "https://localhost:8080/"
        },
        "id": "bxX-1rAlDnQR",
        "outputId": "d41dbf26-033f-4914-d189-58ada8010b5e"
      },
      "source": [
        "from google.colab import drive\n",
        "drive.mount('/content/drive')"
      ],
      "execution_count": 3,
      "outputs": [
        {
          "output_type": "stream",
          "name": "stdout",
          "text": [
            "Mounted at /content/drive\n"
          ]
        }
      ]
    },
    {
      "cell_type": "markdown",
      "metadata": {
        "id": "XwzZhaHYnhC2"
      },
      "source": [
        "I performed some testing to find a good chunk size."
      ]
    },
    {
      "cell_type": "code",
      "metadata": {
        "id": "gLpPJEVgXWIA"
      },
      "source": [
        "CHUNK_SIZE = 1e7\n",
        "HUGE_FILE_PATH = \"/content/drive/MyDrive/profeco.zip\""
      ],
      "execution_count": 4,
      "outputs": []
    },
    {
      "cell_type": "code",
      "metadata": {
        "id": "RJ967tz8Vfgb"
      },
      "source": [
        "state_and_product_columns = [\"estado\", \"producto\", \"presentacion\"]\n",
        "commercial_chain_columns = [\"cadenaComercial\"]\n",
        "aggregate_frame_column = \"producto\""
      ],
      "execution_count": 5,
      "outputs": []
    },
    {
      "cell_type": "code",
      "metadata": {
        "id": "ZoFGhUQrDluH"
      },
      "source": [
        "data = pd.read_csv(HUGE_FILE_PATH, chunksize=CHUNK_SIZE, usecols=columns_to_use)"
      ],
      "execution_count": 6,
      "outputs": []
    },
    {
      "cell_type": "markdown",
      "metadata": {
        "id": "A4Bb1iuJnpt0"
      },
      "source": [
        "Since the dataset is a large file, it will be read chunk by chunk in order to reduce memory usage while fetching data."
      ]
    },
    {
      "cell_type": "code",
      "metadata": {
        "id": "BSn0lNYEDluI",
        "colab": {
          "base_uri": "https://localhost:8080/"
        },
        "outputId": "bcc3c3c3-7ee5-4ad6-af4c-0a218d7b6b2d"
      },
      "source": [
        "dataset = data.get_chunk()\n",
        "while True:\n",
        "    try:\n",
        "        chunk = data.get_chunk()\n",
        "    except StopIteration:\n",
        "        print(\"Dataset read\")\n",
        "        break\n",
        "    dataset = dataset.append(chunk, ignore_index=True)"
      ],
      "execution_count": 7,
      "outputs": [
        {
          "output_type": "stream",
          "name": "stderr",
          "text": [
            "/usr/local/lib/python3.7/dist-packages/ipykernel/zmqshell.py:537: DtypeWarning: Columns (5) have mixed types.Specify dtype option on import or set low_memory=False.\n",
            "  return super(ZMQInteractiveShell, self).run_cell(*args, **kwargs)\n"
          ]
        },
        {
          "output_type": "stream",
          "name": "stdout",
          "text": [
            "Dataset read\n"
          ]
        }
      ]
    },
    {
      "cell_type": "code",
      "metadata": {
        "id": "gGpA2HglC6yQ"
      },
      "source": [
        "state_product_count = dataset.groupby(state_and_product_columns)[aggregate_frame_column].count()\n",
        "commercial_chain_count = dataset.groupby(commercial_chain_columns)[aggregate_frame_column].count()"
      ],
      "execution_count": 8,
      "outputs": []
    },
    {
      "cell_type": "markdown",
      "metadata": {
        "id": "RI7O8e_vox-5"
      },
      "source": [
        "## A1: How many commercial chains are monitored, and therefore, included in this database?\n",
        "\n",
        "Since the Series `items_counted_by_commercial_chain` has already an index whose keys are the commercial chains, we only need to find the length of that as a list."
      ]
    },
    {
      "cell_type": "code",
      "metadata": {
        "colab": {
          "base_uri": "https://localhost:8080/"
        },
        "id": "3OeZMUtwDluK",
        "outputId": "5f21f4b9-9ade-4841-ba96-0cd8902e4204"
      },
      "source": [
        "commercial_chain_count.drop(index=[\"cadenaComercial\"], inplace=True, errors=\"ignore\")\n",
        "commercial_chain_count.sort_values(ascending=False).to_csv(\"commercial_chain_count.csv\")\n",
        "commercial_chains = commercial_chain_count.index.size\n",
        "print(f\"There are {commercial_chains} commercial chains whose products are being monitored\")"
      ],
      "execution_count": 10,
      "outputs": [
        {
          "output_type": "stream",
          "name": "stdout",
          "text": [
            "There are 704 commercial chains whose products are being monitored\n"
          ]
        }
      ]
    },
    {
      "cell_type": "markdown",
      "metadata": {
        "id": "ijZaFDxZqxAN"
      },
      "source": [
        "## A2: Top 10 monitored products by State\n",
        "The Series `items_counted_by_state_and_product` has grouped a count of entries grouped by state and product name. Then, it is possible to filter the 10 most counted items grouped by State."
      ]
    },
    {
      "cell_type": "code",
      "metadata": {
        "id": "0xMhN4ZqqzkT"
      },
      "source": [
        "state_product_count.drop(labels=\"estado\", level=0, inplace=True, errors=\"ignore\")\n",
        "# Reduced response\n",
        "top_10_by_state_without_p = state_product_count.groupby([\"estado\", \"producto\"], group_keys=False).sum()\n",
        "top_10_by_state_without_p = top_10_by_state_without_p.groupby(\"estado\", group_keys=False).nlargest(10)\n",
        "top_10_by_state_without_p.to_csv(\"top_10_by_state_without_presentation.csv\")\n",
        "# Detailed response\n",
        "top_10_by_state_with_p = state_product_count.groupby(\"estado\", group_keys=False).nlargest(10)\n",
        "top_10_by_state_with_p.to_csv(\"top_10_by_state_with_presentation.csv\")\n",
        "\n",
        "print(\"Top 10 products information saved\")"
      ],
      "execution_count": null,
      "outputs": []
    },
    {
      "cell_type": "markdown",
      "metadata": {
        "id": "6gAGUnL7igJC"
      },
      "source": [
        "## A3: Commercial chain with the most monitored products\n",
        "It reduces to finding the row with highest value in `items_counted_by_commercial_chain`."
      ]
    },
    {
      "cell_type": "code",
      "metadata": {
        "id": "XZp9aMlAqzfo",
        "colab": {
          "base_uri": "https://localhost:8080/"
        },
        "outputId": "ac1a806e-862f-414a-c6c3-fd72d6f3818c"
      },
      "source": [
        "print(\"Commercial chain with the most monitored products:\")\n",
        "print(commercial_chain_count.nlargest(1))"
      ],
      "execution_count": null,
      "outputs": [
        {
          "output_type": "stream",
          "name": "stdout",
          "text": [
            "Commercial chain with the most monitored products:\n",
            "cadenaComercial\n",
            "WAL-MART    8643133\n",
            "Name: producto, dtype: int64\n"
          ]
        }
      ]
    },
    {
      "cell_type": "markdown",
      "metadata": {
        "id": "Dkc_Fz_RkS0E"
      },
      "source": [
        "## A4: An interesting fact: how different are detergetn prices by State\n",
        "Given that detergent is one of the most monitored products by State, it might be interesting how much is the mean price by State, is it the same all across the country?"
      ]
    },
    {
      "cell_type": "code",
      "metadata": {
        "colab": {
          "base_uri": "https://localhost:8080/"
        },
        "id": "rLEoAJ4BiIBQ",
        "outputId": "f86a0e58-67af-4c3e-9016-3c838b1347ce"
      },
      "source": [
        "# Filter rows whose product is detergent and keep only price and state columns\n",
        "target_product = \"DETERGENTE P/ROPA\"\n",
        "detergent_dataset = dataset.loc[dataset[\"producto\"] == target_product][[\"estado\", \"precio\"]]\n",
        "print(detergent_dataset.size)\n",
        "# Parse price to numeric\n",
        "detergent_dataset[\"precio\"] = pd.to_numeric(detergent_dataset[\"precio\"])\n",
        "detergent_mean_cost_by_state = detergent_dataset.groupby([\"estado\"])[\"precio\"].mean()\n",
        "detergent_mean_cost_by_state.sort_values(ascending=False, inplace=True)\n",
        "detergent_mean_cost_by_state.to_csv(\"detergent_price_by_state.csv\")\n",
        "\n",
        "print(\"Detergent information saved\")"
      ],
      "execution_count": null,
      "outputs": [
        {
          "output_type": "stream",
          "name": "stdout",
          "text": [
            "1980244\n",
            "Detergent information saved\n"
          ]
        }
      ]
    }
  ]
}